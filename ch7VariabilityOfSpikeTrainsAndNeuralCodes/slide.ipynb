{
 "cells": [
  {
   "cell_type": "markdown",
   "metadata": {
    "slideshow": {
     "slide_type": "slide"
    }
   },
   "source": [
    "# Chapter 7 Variability of Spike Trains and Neural Codes\n",
    "Keita Watanabe 2017/08/01 "
   ]
  },
  {
   "cell_type": "markdown",
   "metadata": {
    "slideshow": {
     "slide_type": "notes"
    }
   },
   "source": [
    "Note: I use Julia v0.6 in programming sessions as it's the most widely used, popular programming language in our lab."
   ]
  },
  {
   "cell_type": "code",
   "execution_count": 1,
   "metadata": {
    "collapsed": true,
    "slideshow": {
     "slide_type": "skip"
    }
   },
   "outputs": [],
   "source": [
    "using PyPlot\n",
    "using Distributions\n",
    "using Distributions\n",
    "using DataFrames\n",
    "using JSON"
   ]
  },
  {
   "cell_type": "markdown",
   "metadata": {
    "slideshow": {
     "slide_type": "notes"
    }
   },
   "source": [
    "# メモ\n",
    "## 7.1 Spike train variability\n",
    "Are neurons noisy? -> trial by trial variability\n",
    "> The variability is visible only if the stimulating current is nearly constant (Fig. 7.3). In fact, when neurons are driven by a current with large-amplitude fluctuations of the input signal, neurons behave more or less deterministically (80; 324).\n",
    "![](fig7.3.png)\n",
    "\n",
    "### Source of noise\n",
    "#### Intrinsic noise\n",
    "##### Thermal noise\n",
    "##### Probabilistic nature of finite number of ion channels\n",
    "\n",
    "> The formulation of the Hodgkin-Huxley equations in terms of ion channel conductivities (see Chapter 2) is implicitly based on the assumption of a large number of ion channels so that fluctuations can be neglected. ... Models that take the finite number of ion channels into account, can reproduce the observed variability of real neurons with intracellular stimulation (456; 96). In particular, they show little spike jitter if the input current is rapidly changing, but are less reliable if the input current is constant.\n",
    "\n",
    "#### Noise from the Network\n",
    "> Synaptic transmission failures, for instance, seem to impose a substantial limitation to signal transmission within a neuronal network. Experiments with double electrode recordings from two synaptically connected neurons suggest that only 10–30 percent of presynaptic spikes generate a postsynaptic response (218; 330).\n",
    "\n",
    "> Finally, an important part of the irregularity of neuronal spiking during spontaneous activity seems to be due to properties of the network – even if the network itself is completely deterministic. -> あとでやる\n",
    "\n",
    "variabilityについて詳しく調べる-> spike trainに対する統計的記述が必要である"
   ]
  },
  {
   "cell_type": "markdown",
   "metadata": {
    "slideshow": {
     "slide_type": "notes"
    }
   },
   "source": [
    "## 7.2 Mean Firing Rate\n",
    "$$\n",
    "\\nu_{k}={n_{k}^{\\rm sp}\\over T}\\,.\n",
    "$$\n",
    "\n",
    "$$\n",
    "F={\\langle(\\Delta n^{\\rm sp})^{2}\\rangle\\over\\langle n^{\\rm sp}\\rangle}\\,.\n",
    "$$\n",
    "where $\\langle n^{\\rm sp}\\rangle$ is mean of ${\\rm sp}_k$, $\\Delta n^{\\rm sp}_{k}=n^{\\rm sp}_{k}-\\langle n^{\\rm sp}\\rangle$ \n"
   ]
  },
  {
   "cell_type": "markdown",
   "metadata": {
    "slideshow": {
     "slide_type": "notes"
    }
   },
   "source": [
    "\n",
    "## Keywords\n",
    "## The rifing rate\n",
    "$$\n",
    "\\nu_{k}={n_{k}^{\\rm sp}\\over T}\\,.\n",
    "$$\n",
    "\n",
    "## The Fono factor\n",
    "$$\n",
    "F={\\langle(\\Delta n^{\\rm sp})^{2}\\rangle\\over\\langle n^{\\rm sp}\\rangle}\\,.\n",
    "$$\n",
    "where $\\langle n^{\\rm sp}\\rangle$ is mean of ${\\rm sp}_k$, $\\Delta n^{\\rm sp}_{k}=n^{\\rm sp}_{k}-\\langle n^{\\rm sp}\\rangle$ \n",
    "\n",
    "* PSTH\n",
    "* ISI\n",
    "* Auto correlationとpower spectral densityとの関係\n",
    "\n",
    "\n",
    "あとhomogeneous/inhomogeneous poisson modelの話をするか？ -> むしろExcersiseの章を使ってPoint processの突っ込んだ話をしたほうが面白いかもしれない..."
   ]
  },
  {
   "cell_type": "markdown",
   "metadata": {
    "slideshow": {
     "slide_type": "slide"
    }
   },
   "source": [
    "# 7.1 Spike train variability\n",
    "Neuron models such as the HH or the IF show a regular spikes with sufficiently storng constant current.\n",
    "__But__\n",
    "<br>\n",
    "<right>![noimg](spikeVar2.png)</right>\n",
    "Actual neuron fire irregularly. What is the source of the trial variability?"
   ]
  },
  {
   "cell_type": "markdown",
   "metadata": {
    "slideshow": {
     "slide_type": "slide"
    }
   },
   "source": [
    "<figure>\n",
    "<img src=\"spikeVar1.png\">\n",
    "<figcaption>In vivo. 15 repetitions of the same random dot motion pattern. </figcaption>\n",
    "<img src=\"fig7.3.png\">\n",
    "<figcaption>In vitro. Variability across repetitions of the same stimulus. Recorded from a isolated neuron.</figcaption>\n",
    "</figure>"
   ]
  },
  {
   "cell_type": "markdown",
   "metadata": {
    "slideshow": {
     "slide_type": "slide"
    }
   },
   "source": [
    "## Question: What is the source of variability?\n",
    "* Spike time / membrane potential is not reliable. \n",
    "     - fluctuations = noise?\n",
    "     - relevance for coding\n",
    "     - source of fluctuations?\n",
    "     - model of fluctuations?"
   ]
  },
  {
   "cell_type": "markdown",
   "metadata": {
    "slideshow": {
     "slide_type": "slide"
    }
   },
   "source": [
    "## Source of noise\n",
    "* Intrinsic noise\n",
    "    - Thermal noise\n",
    "    - Probabilistic nature of finite number of ion channels\n",
    "\n",
    "> The formulation of the Hodgkin-Huxley equations in terms of ion channel conductivities (see Chapter 2) is implicitly based on the assumption of a large number of ion channels so that fluctuations can be neglected. ... Models that take the finite number of ion channels into account, can reproduce the observed variability of real neurons with intracellular stimulation (456; 96). In particular, they show little spike jitter if the input current is rapidly changing, but are less reliable if the input current is constant.\n"
   ]
  },
  {
   "cell_type": "markdown",
   "metadata": {
    "slideshow": {
     "slide_type": "subslide"
    }
   },
   "source": [
    "* Noise from the Network\n",
    "> Synaptic transmission failures, for instance, seem to impose a substantial limitation to signal transmission within a neuronal network. Experiments with double electrode recordings from two synaptically connected neurons suggest that only 10–30 percent of presynaptic spikes generate a postsynaptic response (218; 330). \n",
    "\n",
    "    > ...Finally, an important part of the irregularity of neuronal spiking during spontaneous activity seems to be due to properties of the network – even if the network itself is completely deterministic. -> あとでやる"
   ]
  },
  {
   "cell_type": "markdown",
   "metadata": {
    "slideshow": {
     "slide_type": "slide"
    }
   },
   "source": [
    "## Homogeneous Poisson point process\n",
    "If intervals of events are samples from the exponential distribution, and the intervals are independent each other, then the process is memoryless. __This process is called a homogeneous Poisson point process__."
   ]
  },
  {
   "cell_type": "markdown",
   "metadata": {
    "slideshow": {
     "slide_type": "slide"
    }
   },
   "source": [
    "Probability that a (continuous) random variable $X$ is in $(x, x+dx)$,\n",
    "$$\n",
    "P(x < X < x +dx)\n",
    "$$\n",
    "Probability density function (PDF)\n",
    "$$\n",
    "f(x) = \\lim_{dx \\to +0} {P(x < X < x +dx) \\over dx}\n",
    "$$\n",
    "Cumulative distribution function (CDF)\n",
    "$$\n",
    "F(x) = P(X \\leq x) = \\int_{\\infty}^x f(s) ds\n",
    "$$\n",
    "Survival function\n",
    "$$\n",
    "\\bar{F}(x) = P(X > x) = 1 - F(x)\n",
    "$$"
   ]
  },
  {
   "cell_type": "markdown",
   "metadata": {
    "slideshow": {
     "slide_type": "slide"
    }
   },
   "source": [
    "## Memoryless process\n",
    "$$\n",
    "P(X > s+t | X > t) = P(X > s)\n",
    "$$\n",
    "Exponential distribution $f(x) = \\lambda e^{-\\lambda x}$ satisfy this condition,\n",
    "$$\n",
    "P(X > s+t) = P(X > s+t | X > t)P(X > t)\n",
    "$$\n",
    "If a distribution satisfies the memoryless property,\n",
    "$$\n",
    "P(X > s+t) = P(X > s)P(X > t)\n",
    "$$\n",
    "Exponential function satisfies this condition,\n",
    "$$\n",
    "P(X > s)P(X > t)  = e^{-\\lambda (s+t)} = P(X > s+t)\n",
    "$$\n",
    "Density is given by\n",
    "$$\n",
    "f(x) = -{d \\over dx} P(X > x) = \\lambda e^{-\\lambda x}\n",
    "$$"
   ]
  },
  {
   "cell_type": "markdown",
   "metadata": {
    "slideshow": {
     "slide_type": "slide"
    }
   },
   "source": [
    "## Why \"Poisson\" process?\n",
    "The probability that $n$ spikes happened in $N$ bins $(T=N\\Delta)$ follows poisson distribution,\n",
    "$$\n",
    "P(N_T = n) = _NC_n (1-\\lambda \\Delta)^{N-n}(\\lambda \\Delta)^n \\to \\frac{(\\lambda T)^n}{n!} e^{\\lambda T} \\text{as} \\Delta \\to 0\n",
    "$$"
   ]
  },
  {
   "cell_type": "code",
   "execution_count": 2,
   "metadata": {
    "slideshow": {
     "slide_type": "slide"
    }
   },
   "outputs": [
    {
     "data": {
      "text/plain": [
       "genpoisson_spiketrains (generic function with 1 method)"
      ]
     },
     "execution_count": 2,
     "metadata": {},
     "output_type": "execute_result"
    }
   ],
   "source": [
    "function genpoisson_spiketrain(rate, dt, duration)\n",
    "    offset = duration\n",
    "    events = cumsum(rand(Exponential(1/rate), Int64(duration*rate+offset)))\n",
    "    return round.(events[0 .< events .< duration], Int(-log10(dt)))\n",
    "end\n",
    "function genpoisson_spiketrains(ntrials, rate, dt, duration)\n",
    "    spike_timings = Array{Float64, 1}()\n",
    "    spike_neurons = Array{Int64, 1}()\n",
    "    for n in 1:ntrials\n",
    "        spike_train = genpoisson_spiketrain(rate, dt, duration)\n",
    "        append!(spike_timings, spike_train)\n",
    "        append!(spike_neurons, n*ones(length(spike_train)))\n",
    "    end    \n",
    "    return DataFrame(trialID = spike_neurons, spiketime = spike_timings, label = ones(spike_neurons))\n",
    "end"
   ]
  },
  {
   "cell_type": "code",
   "execution_count": 14,
   "metadata": {
    "slideshow": {
     "slide_type": "slide"
    }
   },
   "outputs": [],
   "source": [
    "params = Dict{AbstractString, Real}();\n",
    "params[\"rate(Hz)\"] = 1;\n",
    "params[\"dt(ms)\"] = 1;\n",
    "params[\"ntrials\"] = 10;\n",
    "params[\"duration(ms)\"] = 120*1000;\n",
    "spiketrains = genpoisson_spiketrains(params[\"ntrials\"],\n",
    "    params[\"rate(Hz)\"], params[\"dt(ms)\"]/1000, params[\"duration(ms)\"]/1000);\n",
    "duration_s = params[\"duration(ms)\"] / 1000;\n",
    "spiketrain = spiketrains[:spiketime][spiketrains[:trialID] .== 1];"
   ]
  },
  {
   "cell_type": "code",
   "execution_count": 15,
   "metadata": {
    "slideshow": {
     "slide_type": "fragment"
    }
   },
   "outputs": [
    {
     "data": {
      "image/png": "[encoded data removed]",
      "text/plain": [
       "PyPlot.Figure(PyObject <matplotlib.figure.Figure object at 0x13c8a5470>)"
      ]
     },
     "metadata": {},
     "output_type": "display_data"
    },
    {
     "data": {
      "text/plain": [
       "(0, 120)"
      ]
     },
     "execution_count": 15,
     "metadata": {},
     "output_type": "execute_result"
    }
   ],
   "source": [
    "scatter(spiketrains[:spiketime], spiketrains[:trialID])\n",
    "ylabel(\"Trial#\"); xlabel(\"time(s)\"); xlim(0, 120)"
   ]
  },
  {
   "cell_type": "markdown",
   "metadata": {
    "slideshow": {
     "slide_type": "slide"
    }
   },
   "source": [
    "## 7.2 Mean Firing Rate\n",
    "### Mean Firing Rate\n",
    "The firing rate in trial $k$ is the spike count $n_{k}^{\\rm sp}$ in an interval of duration $T$ divided by $T$.\n",
    "$$\n",
    "\\nu_{k}={n_{k}^{\\rm sp}\\over T}\\,.\n",
    "$$\n",
    "\n"
   ]
  },
  {
   "cell_type": "code",
   "execution_count": 16,
   "metadata": {
    "slideshow": {
     "slide_type": "slide"
    }
   },
   "outputs": [
    {
     "data": {
      "image/png": "[encoded data removed]",
      "text/plain": [
       "PyPlot.Figure(PyObject <matplotlib.figure.Figure object at 0x13c7120b8>)"
      ]
     },
     "metadata": {},
     "output_type": "display_data"
    },
    {
     "name": "stdout",
     "output_type": "stream",
     "text": [
      "mean(mfr) = 1.037344398340249\n"
     ]
    },
    {
     "data": {
      "text/plain": [
       "1.037344398340249"
      ]
     },
     "execution_count": 16,
     "metadata": {},
     "output_type": "execute_result"
    }
   ],
   "source": [
    "meanFR(spiketrain, duration_s, interval=.5) = [\n",
    "    length(spiketrain[t .< spiketrain .< t+interval])/interval \n",
    "    for t in 0:interval:duration_s];\n",
    "mfr = meanFR(spiketrain, duration_s)\n",
    "plt[:bar](1:length(mfr), mfr);\n",
    "@show mean(mfr)"
   ]
  },
  {
   "cell_type": "markdown",
   "metadata": {
    "slideshow": {
     "slide_type": "slide"
    }
   },
   "source": [
    "### Fano Factor\n",
    "Let us denote the spike count in trial $k$ by the variable $n^{\\rm sp}_{k}$, \n",
    "$$\n",
    "F={\\langle(\\Delta n^{\\rm sp})^{2}\\rangle\\over\\langle n^{\\rm sp}\\rangle}\\,.\n",
    "$$\n",
    "where $\\langle n^{\\rm sp}\\rangle$ is mean of ${\\rm sp}_k$, $\\Delta n^{\\rm sp}_{k}=n^{\\rm sp}_{k}-\\langle n^{\\rm sp}\\rangle$ \n",
    "\n"
   ]
  },
  {
   "cell_type": "code",
   "execution_count": 20,
   "metadata": {},
   "outputs": [
    {
     "name": "stdout",
     "output_type": "stream",
     "text": [
      "fanofactor(spiketrains) = 0.9522842639593907\n"
     ]
    },
    {
     "data": {
      "text/plain": [
       "0.9522842639593907"
      ]
     },
     "execution_count": 20,
     "metadata": {},
     "output_type": "execute_result"
    }
   ],
   "source": [
    "function fanofactor(spiketrains)\n",
    "    spikecounts = [length(spiketrains[:trialID][spiketrains[:trialID] .== ID]) for ID in 1:params[\"ntrials\"]];\n",
    "    meanspikecounts = mean(spikecounts)\n",
    "    variability_of_spikecounts = spikecounts .- meanspikecounts\n",
    "    fano = mean(variability_of_spikecounts .^ 2) / meanspikecounts    \n",
    "    return(fano)\n",
    "end\n",
    "@show fanofactor(spiketrains)"
   ]
  },
  {
   "cell_type": "markdown",
   "metadata": {
    "slideshow": {
     "slide_type": "slide"
    }
   },
   "source": [
    "## PSTH, Rate as a Population activity\n",
    "$$\n",
    "\\rho(t)={1\\over\\Delta t}{n_{K}(t;t+\\Delta t)\\over K}\\,.\n",
    "$$\n",
    "以下スライドを作っていないので教科書参照"
   ]
  },
  {
   "cell_type": "markdown",
   "metadata": {},
   "source": [
    "# Interval distribution and coefficient of variation"
   ]
  },
  {
   "cell_type": "markdown",
   "metadata": {},
   "source": [
    "# Three difinitions of Rate code"
   ]
  },
  {
   "cell_type": "markdown",
   "metadata": {},
   "source": [
    "#  Stochastic spike arrival"
   ]
  },
  {
   "cell_type": "markdown",
   "metadata": {},
   "source": [
    "# Stochastic spikje iring"
   ]
  },
  {
   "cell_type": "markdown",
   "metadata": {
    "collapsed": true
   },
   "source": [
    "# Poisson process"
   ]
  },
  {
   "cell_type": "code",
   "execution_count": null,
   "metadata": {
    "collapsed": true
   },
   "outputs": [],
   "source": []
  }
 ],
 "metadata": {
  "celltoolbar": "Slideshow",
  "kernelspec": {
   "display_name": "Julia 0.6.0",
   "language": "julia",
   "name": "julia-0.6"
  },
  "language_info": {
   "file_extension": ".jl",
   "mimetype": "application/julia",
   "name": "julia",
   "version": "0.6.0"
  },
  "toc": {
   "nav_menu": {
    "height": "30px",
    "width": "252px"
   },
   "navigate_menu": true,
   "number_sections": false,
   "sideBar": true,
   "threshold": 4,
   "toc_cell": false,
   "toc_section_display": "block",
   "toc_window_display": false
  }
 },
 "nbformat": 4,
 "nbformat_minor": 2
}
